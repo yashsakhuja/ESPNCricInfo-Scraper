{
 "cells": [
  {
   "cell_type": "markdown",
   "metadata": {},
   "source": [
    "#### Importing and Combining Data"
   ]
  },
  {
   "cell_type": "code",
   "execution_count": 1,
   "metadata": {},
   "outputs": [],
   "source": [
    "# Point to the match name sub-folder\n",
    "match_name=\"LAN vs SUR - 2023-07-07\""
   ]
  },
  {
   "cell_type": "code",
   "execution_count": 2,
   "metadata": {},
   "outputs": [],
   "source": [
    "import pandas as pd\n",
    "\n",
    "# Point to the location of extracted csvs\n",
    "team1_data=pd.read_csv(\"Scraped Data/LAN vs SUR - 2023-07-07/2023-07-07-LAN-Batting.csv\")\n",
    "team2_data=pd.read_csv(\"Scraped Data/LAN vs SUR - 2023-07-07/2023-07-07-SUR-Batting.csv\")"
   ]
  },
  {
   "cell_type": "code",
   "execution_count": 3,
   "metadata": {},
   "outputs": [],
   "source": [
    "team1_data['Team'] = \"LAN\"\n",
    "team2_data['Team'] = \"SUR\""
   ]
  },
  {
   "cell_type": "code",
   "execution_count": 4,
   "metadata": {},
   "outputs": [
    {
     "name": "stdout",
     "output_type": "stream",
     "text": [
      "   ball score                  commentary Team\n",
      "0  19.6     1  Abbott to Mitchell,  1 run  LAN\n",
      "1  19.5     1     Abbott to Jones,  1 run  LAN\n",
      "2  19.4     1  Abbott to Mitchell,  1 run  LAN\n",
      "3  19.3     •  Abbott to Mitchell, no run  LAN\n",
      "4  19.2     •  Abbott to Mitchell, no run  LAN\n",
      "(125, 4)\n",
      "(124, 4)\n"
     ]
    }
   ],
   "source": [
    "print(team1_data.head())\n",
    "print(team1_data.shape)\n",
    "print(team2_data.shape)"
   ]
  },
  {
   "cell_type": "code",
   "execution_count": 5,
   "metadata": {},
   "outputs": [],
   "source": [
    "#Sorting the two datasets before union- extracted in reverse order so just reversed it\n",
    "team1_data = team1_data.iloc[::-1].reset_index(drop=True)\n",
    "team2_data = team2_data.iloc[::-1].reset_index(drop=True)"
   ]
  },
  {
   "cell_type": "code",
   "execution_count": 6,
   "metadata": {},
   "outputs": [],
   "source": [
    "#Union 2 Datasets together\n",
    "data = pd.concat([team1_data, team2_data], ignore_index=True)"
   ]
  },
  {
   "cell_type": "code",
   "execution_count": 7,
   "metadata": {},
   "outputs": [
    {
     "data": {
      "text/plain": [
       "(249, 4)"
      ]
     },
     "execution_count": 7,
     "metadata": {},
     "output_type": "execute_result"
    }
   ],
   "source": [
    "data.shape"
   ]
  },
  {
   "cell_type": "code",
   "execution_count": 8,
   "metadata": {},
   "outputs": [
    {
     "data": {
      "text/html": [
       "<div>\n",
       "<style scoped>\n",
       "    .dataframe tbody tr th:only-of-type {\n",
       "        vertical-align: middle;\n",
       "    }\n",
       "\n",
       "    .dataframe tbody tr th {\n",
       "        vertical-align: top;\n",
       "    }\n",
       "\n",
       "    .dataframe thead th {\n",
       "        text-align: right;\n",
       "    }\n",
       "</style>\n",
       "<table border=\"1\" class=\"dataframe\">\n",
       "  <thead>\n",
       "    <tr style=\"text-align: right;\">\n",
       "      <th></th>\n",
       "      <th>ball</th>\n",
       "      <th>score</th>\n",
       "      <th>commentary</th>\n",
       "      <th>Team</th>\n",
       "    </tr>\n",
       "  </thead>\n",
       "  <tbody>\n",
       "    <tr>\n",
       "      <th>0</th>\n",
       "      <td>0.1</td>\n",
       "      <td>1</td>\n",
       "      <td>Jacks to Salt,  1 run</td>\n",
       "      <td>LAN</td>\n",
       "    </tr>\n",
       "    <tr>\n",
       "      <th>1</th>\n",
       "      <td>0.2</td>\n",
       "      <td>1</td>\n",
       "      <td>Jacks to Buttler,  1 run</td>\n",
       "      <td>LAN</td>\n",
       "    </tr>\n",
       "    <tr>\n",
       "      <th>2</th>\n",
       "      <td>0.3</td>\n",
       "      <td>4</td>\n",
       "      <td>Jacks to Salt, FOUR runs</td>\n",
       "      <td>LAN</td>\n",
       "    </tr>\n",
       "    <tr>\n",
       "      <th>3</th>\n",
       "      <td>0.4</td>\n",
       "      <td>1</td>\n",
       "      <td>Jacks to Salt,  1 run</td>\n",
       "      <td>LAN</td>\n",
       "    </tr>\n",
       "    <tr>\n",
       "      <th>4</th>\n",
       "      <td>0.5</td>\n",
       "      <td>6</td>\n",
       "      <td>Jacks to Buttler,  SIX runs</td>\n",
       "      <td>LAN</td>\n",
       "    </tr>\n",
       "  </tbody>\n",
       "</table>\n",
       "</div>"
      ],
      "text/plain": [
       "   ball score                   commentary Team\n",
       "0   0.1     1        Jacks to Salt,  1 run  LAN\n",
       "1   0.2     1     Jacks to Buttler,  1 run  LAN\n",
       "2   0.3     4     Jacks to Salt, FOUR runs  LAN\n",
       "3   0.4     1        Jacks to Salt,  1 run  LAN\n",
       "4   0.5     6  Jacks to Buttler,  SIX runs  LAN"
      ]
     },
     "execution_count": 8,
     "metadata": {},
     "output_type": "execute_result"
    }
   ],
   "source": [
    "data.head()"
   ]
  },
  {
   "cell_type": "markdown",
   "metadata": {},
   "source": [
    "#### Cleaning Steps"
   ]
  },
  {
   "cell_type": "code",
   "execution_count": 9,
   "metadata": {},
   "outputs": [
    {
     "data": {
      "text/plain": [
       "array(['1', '4', '6', '•', '4lb', 'W', '2', '4b', '3lb', '3n-l', '1lb',\n",
       "       '1w', '1W', '3nb', '2nb', '6nb', '3'], dtype=object)"
      ]
     },
     "execution_count": 9,
     "metadata": {},
     "output_type": "execute_result"
    }
   ],
   "source": [
    "data[\"score\"].unique()"
   ]
  },
  {
   "cell_type": "code",
   "execution_count": 10,
   "metadata": {},
   "outputs": [],
   "source": [
    "#Replace \".\" with \"0\"\n",
    "data['score'] = data['score'].replace(\"•\", 0)"
   ]
  },
  {
   "cell_type": "code",
   "execution_count": 11,
   "metadata": {},
   "outputs": [
    {
     "name": "stderr",
     "output_type": "stream",
     "text": [
      "<>:3: SyntaxWarning: invalid escape sequence '\\d'\n",
      "<>:3: SyntaxWarning: invalid escape sequence '\\d'\n",
      "/var/folders/0r/jdkpl6hs7m184t4p3zcgbsv00000gn/T/ipykernel_9694/742093441.py:3: SyntaxWarning: invalid escape sequence '\\d'\n",
      "  data['Runs'] = data['score'].astype(str).str.extract('(\\d+)')\n"
     ]
    }
   ],
   "source": [
    "#Extracting Runs or Numeric elements from the Scores column\n",
    "data[\"Runs\"]=None\n",
    "data['Runs'] = data['score'].astype(str).str.extract('(\\d+)')\n",
    "data['Runs'] = data['Runs'].fillna(0).astype(int)"
   ]
  },
  {
   "cell_type": "code",
   "execution_count": 12,
   "metadata": {},
   "outputs": [
    {
     "data": {
      "text/plain": [
       "Team\n",
       "LAN    174\n",
       "SUR    187\n",
       "Name: Runs, dtype: int64"
      ]
     },
     "execution_count": 12,
     "metadata": {},
     "output_type": "execute_result"
    }
   ],
   "source": [
    "data.groupby('Team')['Runs'].sum()"
   ]
  },
  {
   "cell_type": "code",
   "execution_count": 13,
   "metadata": {},
   "outputs": [],
   "source": [
    "# Create 'Wickets' column: 1 if OUT, 0 otherwise\n",
    "data['Wickets'] = data['score'].apply(lambda x: 1 if 'W' in str(x) else 0)"
   ]
  },
  {
   "cell_type": "code",
   "execution_count": 14,
   "metadata": {},
   "outputs": [
    {
     "data": {
      "text/plain": [
       "Team\n",
       "LAN    6\n",
       "SUR    5\n",
       "Name: Wickets, dtype: int64"
      ]
     },
     "execution_count": 14,
     "metadata": {},
     "output_type": "execute_result"
    }
   ],
   "source": [
    "data.groupby('Team')['Wickets'].sum()"
   ]
  },
  {
   "cell_type": "code",
   "execution_count": 15,
   "metadata": {},
   "outputs": [
    {
     "data": {
      "text/html": [
       "<div>\n",
       "<style scoped>\n",
       "    .dataframe tbody tr th:only-of-type {\n",
       "        vertical-align: middle;\n",
       "    }\n",
       "\n",
       "    .dataframe tbody tr th {\n",
       "        vertical-align: top;\n",
       "    }\n",
       "\n",
       "    .dataframe thead th {\n",
       "        text-align: right;\n",
       "    }\n",
       "</style>\n",
       "<table border=\"1\" class=\"dataframe\">\n",
       "  <thead>\n",
       "    <tr style=\"text-align: right;\">\n",
       "      <th></th>\n",
       "      <th>ball</th>\n",
       "      <th>score</th>\n",
       "      <th>commentary</th>\n",
       "      <th>Team</th>\n",
       "      <th>Runs</th>\n",
       "      <th>Wickets</th>\n",
       "    </tr>\n",
       "  </thead>\n",
       "  <tbody>\n",
       "    <tr>\n",
       "      <th>0</th>\n",
       "      <td>0.1</td>\n",
       "      <td>1</td>\n",
       "      <td>Jacks to Salt,  1 run</td>\n",
       "      <td>LAN</td>\n",
       "      <td>1</td>\n",
       "      <td>0</td>\n",
       "    </tr>\n",
       "    <tr>\n",
       "      <th>1</th>\n",
       "      <td>0.2</td>\n",
       "      <td>1</td>\n",
       "      <td>Jacks to Buttler,  1 run</td>\n",
       "      <td>LAN</td>\n",
       "      <td>1</td>\n",
       "      <td>0</td>\n",
       "    </tr>\n",
       "    <tr>\n",
       "      <th>2</th>\n",
       "      <td>0.3</td>\n",
       "      <td>4</td>\n",
       "      <td>Jacks to Salt, FOUR runs</td>\n",
       "      <td>LAN</td>\n",
       "      <td>4</td>\n",
       "      <td>0</td>\n",
       "    </tr>\n",
       "    <tr>\n",
       "      <th>3</th>\n",
       "      <td>0.4</td>\n",
       "      <td>1</td>\n",
       "      <td>Jacks to Salt,  1 run</td>\n",
       "      <td>LAN</td>\n",
       "      <td>1</td>\n",
       "      <td>0</td>\n",
       "    </tr>\n",
       "    <tr>\n",
       "      <th>4</th>\n",
       "      <td>0.5</td>\n",
       "      <td>6</td>\n",
       "      <td>Jacks to Buttler,  SIX runs</td>\n",
       "      <td>LAN</td>\n",
       "      <td>6</td>\n",
       "      <td>0</td>\n",
       "    </tr>\n",
       "    <tr>\n",
       "      <th>...</th>\n",
       "      <td>...</td>\n",
       "      <td>...</td>\n",
       "      <td>...</td>\n",
       "      <td>...</td>\n",
       "      <td>...</td>\n",
       "      <td>...</td>\n",
       "    </tr>\n",
       "    <tr>\n",
       "      <th>244</th>\n",
       "      <td>19.2</td>\n",
       "      <td>1</td>\n",
       "      <td>Bailey to Narine,  1 run</td>\n",
       "      <td>SUR</td>\n",
       "      <td>1</td>\n",
       "      <td>0</td>\n",
       "    </tr>\n",
       "    <tr>\n",
       "      <th>245</th>\n",
       "      <td>19.3</td>\n",
       "      <td>1</td>\n",
       "      <td>Bailey to Jordan,  1 run</td>\n",
       "      <td>SUR</td>\n",
       "      <td>1</td>\n",
       "      <td>0</td>\n",
       "    </tr>\n",
       "    <tr>\n",
       "      <th>246</th>\n",
       "      <td>19.4</td>\n",
       "      <td>1</td>\n",
       "      <td>Bailey to Narine,  1 run</td>\n",
       "      <td>SUR</td>\n",
       "      <td>1</td>\n",
       "      <td>0</td>\n",
       "    </tr>\n",
       "    <tr>\n",
       "      <th>247</th>\n",
       "      <td>19.5</td>\n",
       "      <td>6</td>\n",
       "      <td>Bailey to Jordan,  SIX runs</td>\n",
       "      <td>SUR</td>\n",
       "      <td>6</td>\n",
       "      <td>0</td>\n",
       "    </tr>\n",
       "    <tr>\n",
       "      <th>248</th>\n",
       "      <td>19.6</td>\n",
       "      <td>2</td>\n",
       "      <td>Bailey to Jordan,  2 runs</td>\n",
       "      <td>SUR</td>\n",
       "      <td>2</td>\n",
       "      <td>0</td>\n",
       "    </tr>\n",
       "  </tbody>\n",
       "</table>\n",
       "<p>249 rows × 6 columns</p>\n",
       "</div>"
      ],
      "text/plain": [
       "     ball score                   commentary Team  Runs  Wickets\n",
       "0     0.1     1        Jacks to Salt,  1 run  LAN     1        0\n",
       "1     0.2     1     Jacks to Buttler,  1 run  LAN     1        0\n",
       "2     0.3     4     Jacks to Salt, FOUR runs  LAN     4        0\n",
       "3     0.4     1        Jacks to Salt,  1 run  LAN     1        0\n",
       "4     0.5     6  Jacks to Buttler,  SIX runs  LAN     6        0\n",
       "..    ...   ...                          ...  ...   ...      ...\n",
       "244  19.2     1     Bailey to Narine,  1 run  SUR     1        0\n",
       "245  19.3     1     Bailey to Jordan,  1 run  SUR     1        0\n",
       "246  19.4     1     Bailey to Narine,  1 run  SUR     1        0\n",
       "247  19.5     6  Bailey to Jordan,  SIX runs  SUR     6        0\n",
       "248  19.6     2    Bailey to Jordan,  2 runs  SUR     2        0\n",
       "\n",
       "[249 rows x 6 columns]"
      ]
     },
     "execution_count": 15,
     "metadata": {},
     "output_type": "execute_result"
    }
   ],
   "source": [
    "data"
   ]
  },
  {
   "cell_type": "code",
   "execution_count": 16,
   "metadata": {},
   "outputs": [],
   "source": [
    "data['Ball ID'] = data.groupby('Team').cumcount()"
   ]
  },
  {
   "cell_type": "code",
   "execution_count": 17,
   "metadata": {},
   "outputs": [
    {
     "data": {
      "text/html": [
       "<div>\n",
       "<style scoped>\n",
       "    .dataframe tbody tr th:only-of-type {\n",
       "        vertical-align: middle;\n",
       "    }\n",
       "\n",
       "    .dataframe tbody tr th {\n",
       "        vertical-align: top;\n",
       "    }\n",
       "\n",
       "    .dataframe thead th {\n",
       "        text-align: right;\n",
       "    }\n",
       "</style>\n",
       "<table border=\"1\" class=\"dataframe\">\n",
       "  <thead>\n",
       "    <tr style=\"text-align: right;\">\n",
       "      <th></th>\n",
       "      <th>ball</th>\n",
       "      <th>score</th>\n",
       "      <th>commentary</th>\n",
       "      <th>Team</th>\n",
       "      <th>Runs</th>\n",
       "      <th>Wickets</th>\n",
       "      <th>Ball ID</th>\n",
       "    </tr>\n",
       "  </thead>\n",
       "  <tbody>\n",
       "    <tr>\n",
       "      <th>244</th>\n",
       "      <td>19.2</td>\n",
       "      <td>1</td>\n",
       "      <td>Bailey to Narine,  1 run</td>\n",
       "      <td>SUR</td>\n",
       "      <td>1</td>\n",
       "      <td>0</td>\n",
       "      <td>119</td>\n",
       "    </tr>\n",
       "    <tr>\n",
       "      <th>245</th>\n",
       "      <td>19.3</td>\n",
       "      <td>1</td>\n",
       "      <td>Bailey to Jordan,  1 run</td>\n",
       "      <td>SUR</td>\n",
       "      <td>1</td>\n",
       "      <td>0</td>\n",
       "      <td>120</td>\n",
       "    </tr>\n",
       "    <tr>\n",
       "      <th>246</th>\n",
       "      <td>19.4</td>\n",
       "      <td>1</td>\n",
       "      <td>Bailey to Narine,  1 run</td>\n",
       "      <td>SUR</td>\n",
       "      <td>1</td>\n",
       "      <td>0</td>\n",
       "      <td>121</td>\n",
       "    </tr>\n",
       "    <tr>\n",
       "      <th>247</th>\n",
       "      <td>19.5</td>\n",
       "      <td>6</td>\n",
       "      <td>Bailey to Jordan,  SIX runs</td>\n",
       "      <td>SUR</td>\n",
       "      <td>6</td>\n",
       "      <td>0</td>\n",
       "      <td>122</td>\n",
       "    </tr>\n",
       "    <tr>\n",
       "      <th>248</th>\n",
       "      <td>19.6</td>\n",
       "      <td>2</td>\n",
       "      <td>Bailey to Jordan,  2 runs</td>\n",
       "      <td>SUR</td>\n",
       "      <td>2</td>\n",
       "      <td>0</td>\n",
       "      <td>123</td>\n",
       "    </tr>\n",
       "  </tbody>\n",
       "</table>\n",
       "</div>"
      ],
      "text/plain": [
       "     ball score                   commentary Team  Runs  Wickets  Ball ID\n",
       "244  19.2     1     Bailey to Narine,  1 run  SUR     1        0      119\n",
       "245  19.3     1     Bailey to Jordan,  1 run  SUR     1        0      120\n",
       "246  19.4     1     Bailey to Narine,  1 run  SUR     1        0      121\n",
       "247  19.5     6  Bailey to Jordan,  SIX runs  SUR     6        0      122\n",
       "248  19.6     2    Bailey to Jordan,  2 runs  SUR     2        0      123"
      ]
     },
     "execution_count": 17,
     "metadata": {},
     "output_type": "execute_result"
    }
   ],
   "source": [
    "data.tail()"
   ]
  },
  {
   "cell_type": "code",
   "execution_count": 18,
   "metadata": {},
   "outputs": [],
   "source": [
    "# convert the 'ball' column to a string\n",
    "data['ball'] = data['ball'].astype(str)\n",
    "\n",
    "# Split 'ball' into 'Over' and 'Ball' columns\n",
    "data[['Over', 'Ball']] = data['ball'].str.split('.', expand=True)\n",
    "\n",
    "# Convert 'Over' and 'Ball' columns to integers\n",
    "data['Over'] = data['Over'].astype(int)\n",
    "data['Ball'] = data['Ball'].astype(int)"
   ]
  },
  {
   "cell_type": "code",
   "execution_count": 19,
   "metadata": {},
   "outputs": [
    {
     "data": {
      "text/html": [
       "<div>\n",
       "<style scoped>\n",
       "    .dataframe tbody tr th:only-of-type {\n",
       "        vertical-align: middle;\n",
       "    }\n",
       "\n",
       "    .dataframe tbody tr th {\n",
       "        vertical-align: top;\n",
       "    }\n",
       "\n",
       "    .dataframe thead th {\n",
       "        text-align: right;\n",
       "    }\n",
       "</style>\n",
       "<table border=\"1\" class=\"dataframe\">\n",
       "  <thead>\n",
       "    <tr style=\"text-align: right;\">\n",
       "      <th></th>\n",
       "      <th>ball</th>\n",
       "      <th>score</th>\n",
       "      <th>commentary</th>\n",
       "      <th>Team</th>\n",
       "      <th>Runs</th>\n",
       "      <th>Wickets</th>\n",
       "      <th>Ball ID</th>\n",
       "      <th>Over</th>\n",
       "      <th>Ball</th>\n",
       "    </tr>\n",
       "  </thead>\n",
       "  <tbody>\n",
       "    <tr>\n",
       "      <th>0</th>\n",
       "      <td>0.1</td>\n",
       "      <td>1</td>\n",
       "      <td>Jacks to Salt,  1 run</td>\n",
       "      <td>LAN</td>\n",
       "      <td>1</td>\n",
       "      <td>0</td>\n",
       "      <td>0</td>\n",
       "      <td>0</td>\n",
       "      <td>1</td>\n",
       "    </tr>\n",
       "    <tr>\n",
       "      <th>1</th>\n",
       "      <td>0.2</td>\n",
       "      <td>1</td>\n",
       "      <td>Jacks to Buttler,  1 run</td>\n",
       "      <td>LAN</td>\n",
       "      <td>1</td>\n",
       "      <td>0</td>\n",
       "      <td>1</td>\n",
       "      <td>0</td>\n",
       "      <td>2</td>\n",
       "    </tr>\n",
       "  </tbody>\n",
       "</table>\n",
       "</div>"
      ],
      "text/plain": [
       "  ball score                commentary Team  Runs  Wickets  Ball ID  Over  \\\n",
       "0  0.1     1     Jacks to Salt,  1 run  LAN     1        0        0     0   \n",
       "1  0.2     1  Jacks to Buttler,  1 run  LAN     1        0        1     0   \n",
       "\n",
       "   Ball  \n",
       "0     1  \n",
       "1     2  "
      ]
     },
     "execution_count": 19,
     "metadata": {},
     "output_type": "execute_result"
    }
   ],
   "source": [
    "data.head(2)"
   ]
  },
  {
   "cell_type": "code",
   "execution_count": 20,
   "metadata": {},
   "outputs": [],
   "source": [
    "#Keep relevant columns only\n",
    "data = data[['Team', 'Over', 'Ball','Ball ID','Runs','Wickets']]"
   ]
  },
  {
   "cell_type": "code",
   "execution_count": 21,
   "metadata": {},
   "outputs": [
    {
     "name": "stdout",
     "output_type": "stream",
     "text": [
      "  Team  Over  Ball  Ball ID  Runs  Wickets\n",
      "0  LAN     0     1        0     1        0\n",
      "1  LAN     0     2        1     1        0\n",
      "2  LAN     0     3        2     4        0\n",
      "3  LAN     0     4        3     1        0\n",
      "4  LAN     0     5        4     6        0\n",
      "(249, 6)\n"
     ]
    }
   ],
   "source": [
    "print(data.head())\n",
    "print(data.shape)"
   ]
  },
  {
   "cell_type": "code",
   "execution_count": 24,
   "metadata": {},
   "outputs": [],
   "source": [
    "data.to_csv(f\"Scraped Data/{match_name}/cleaned_data.csv\", index=False)"
   ]
  }
 ],
 "metadata": {
  "kernelspec": {
   "display_name": ".venv",
   "language": "python",
   "name": "python3"
  },
  "language_info": {
   "codemirror_mode": {
    "name": "ipython",
    "version": 3
   },
   "file_extension": ".py",
   "mimetype": "text/x-python",
   "name": "python",
   "nbconvert_exporter": "python",
   "pygments_lexer": "ipython3",
   "version": "3.12.1"
  }
 },
 "nbformat": 4,
 "nbformat_minor": 2
}
